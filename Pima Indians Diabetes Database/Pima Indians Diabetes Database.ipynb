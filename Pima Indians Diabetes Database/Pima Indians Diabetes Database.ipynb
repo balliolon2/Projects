{
 "cells": [
  {
   "cell_type": "markdown",
   "id": "faf238aa",
   "metadata": {},
   "source": [
    "# Pima Indians Diabetes Database"
   ]
  },
  {
   "cell_type": "markdown",
   "id": "ddac2415",
   "metadata": {},
   "source": [
    "* * *\n",
    "By Kongsakun Panyang\n",
    "\n",
    "Email : Kongsakun@kkumail.com\n",
    "\n",
    "Follow to kaggle project : https://www.kaggle.com/c/titanic\n",
    "\n",
    "My kaggle profile : https://www.kaggle.com/kongsakunpanyang\n",
    "\n",
    "My LinkedIn profile : https://www.linkedin.com/in/kongsakun-panyang-b35029230/\n",
    "\n",
    "My upwork profile : https://www.upwork.com/freelancers/~01ab6f69eacc2cd33a\n",
    "\n",
    "My GitHub profile : https://github.com/balliolon2\n",
    "* * *"
   ]
  },
  {
   "cell_type": "markdown",
   "id": "b351e017",
   "metadata": {},
   "source": [
    "Data Science Pathway (According to Data Science Foundation: Fundamentals course in LinkedIn Learning)\n",
    "\n",
    "Planning\n",
    "1. Define Goals : The objective of the dataset is to diagnostically predict whether or not a patient has diabetes, based on certain diagnostic measurements included in the dataset.\n",
    "2. Organize Resource\n",
    "3. Coordinate people\n",
    "4. Schedule Project\n",
    "\n",
    "Wrangling/Preparation\n",
    "1. Get data : from kaggle (https://www.kaggle.com/datasets/uciml/pima-indians-diabetes-database)\n",
    "2. Clean data : Making data easy for use\n",
    "3. Explore data : Data visualization\n",
    "4. Refine data : Clean and shape it\n",
    "\n",
    "Modeling\n",
    "1. Create model\n",
    "2. Validate model\n",
    "3. Evaluate model\n",
    "4. Refine model\n",
    "\n",
    "Applying\n",
    "1. Present model\n",
    "2. Deploy model\n",
    "3. Revisit model\n",
    "4. Archive assets\n",
    "* * * *"
   ]
  },
  {
   "cell_type": "markdown",
   "id": "da126ed0",
   "metadata": {},
   "source": [
    "# Contents\n",
    "1. Import Library & Files\n",
    "2. Data analysis\n",
    "3. Cleaning Data\n",
    "4. Modeling\n",
    "5. Presentation"
   ]
  },
  {
   "cell_type": "markdown",
   "id": "327c025c",
   "metadata": {},
   "source": [
    "Import Library\n",
    "-----"
   ]
  },
  {
   "cell_type": "code",
   "execution_count": 597,
   "id": "df4c8fd2",
   "metadata": {},
   "outputs": [],
   "source": [
    "import numpy as np # for linear algebra and operation\n",
    "import pandas as pd # for dataframe\n",
    "import matplotlib.pyplot as plt # for data visualization\n",
    "import seaborn as sns # for data visualization\n",
    "%matplotlib inline "
   ]
  },
  {
   "cell_type": "markdown",
   "id": "e6f72c72",
   "metadata": {},
   "source": [
    "Import a file"
   ]
  },
  {
   "cell_type": "code",
   "execution_count": 598,
   "id": "bb206b96",
   "metadata": {},
   "outputs": [],
   "source": [
    "data = pd.read_csv('diabetes.csv')"
   ]
  },
  {
   "cell_type": "code",
   "execution_count": 599,
   "id": "12511582",
   "metadata": {},
   "outputs": [
    {
     "data": {
      "text/html": [
       "<div>\n",
       "<style scoped>\n",
       "    .dataframe tbody tr th:only-of-type {\n",
       "        vertical-align: middle;\n",
       "    }\n",
       "\n",
       "    .dataframe tbody tr th {\n",
       "        vertical-align: top;\n",
       "    }\n",
       "\n",
       "    .dataframe thead th {\n",
       "        text-align: right;\n",
       "    }\n",
       "</style>\n",
       "<table border=\"1\" class=\"dataframe\">\n",
       "  <thead>\n",
       "    <tr style=\"text-align: right;\">\n",
       "      <th></th>\n",
       "      <th>Pregnancies</th>\n",
       "      <th>Glucose</th>\n",
       "      <th>BloodPressure</th>\n",
       "      <th>SkinThickness</th>\n",
       "      <th>Insulin</th>\n",
       "      <th>BMI</th>\n",
       "      <th>DiabetesPedigreeFunction</th>\n",
       "      <th>Age</th>\n",
       "      <th>Outcome</th>\n",
       "    </tr>\n",
       "  </thead>\n",
       "  <tbody>\n",
       "    <tr>\n",
       "      <th>0</th>\n",
       "      <td>6</td>\n",
       "      <td>148</td>\n",
       "      <td>72</td>\n",
       "      <td>35</td>\n",
       "      <td>0</td>\n",
       "      <td>33.6</td>\n",
       "      <td>0.627</td>\n",
       "      <td>50</td>\n",
       "      <td>1</td>\n",
       "    </tr>\n",
       "    <tr>\n",
       "      <th>1</th>\n",
       "      <td>1</td>\n",
       "      <td>85</td>\n",
       "      <td>66</td>\n",
       "      <td>29</td>\n",
       "      <td>0</td>\n",
       "      <td>26.6</td>\n",
       "      <td>0.351</td>\n",
       "      <td>31</td>\n",
       "      <td>0</td>\n",
       "    </tr>\n",
       "    <tr>\n",
       "      <th>2</th>\n",
       "      <td>8</td>\n",
       "      <td>183</td>\n",
       "      <td>64</td>\n",
       "      <td>0</td>\n",
       "      <td>0</td>\n",
       "      <td>23.3</td>\n",
       "      <td>0.672</td>\n",
       "      <td>32</td>\n",
       "      <td>1</td>\n",
       "    </tr>\n",
       "    <tr>\n",
       "      <th>3</th>\n",
       "      <td>1</td>\n",
       "      <td>89</td>\n",
       "      <td>66</td>\n",
       "      <td>23</td>\n",
       "      <td>94</td>\n",
       "      <td>28.1</td>\n",
       "      <td>0.167</td>\n",
       "      <td>21</td>\n",
       "      <td>0</td>\n",
       "    </tr>\n",
       "    <tr>\n",
       "      <th>4</th>\n",
       "      <td>0</td>\n",
       "      <td>137</td>\n",
       "      <td>40</td>\n",
       "      <td>35</td>\n",
       "      <td>168</td>\n",
       "      <td>43.1</td>\n",
       "      <td>2.288</td>\n",
       "      <td>33</td>\n",
       "      <td>1</td>\n",
       "    </tr>\n",
       "    <tr>\n",
       "      <th>5</th>\n",
       "      <td>5</td>\n",
       "      <td>116</td>\n",
       "      <td>74</td>\n",
       "      <td>0</td>\n",
       "      <td>0</td>\n",
       "      <td>25.6</td>\n",
       "      <td>0.201</td>\n",
       "      <td>30</td>\n",
       "      <td>0</td>\n",
       "    </tr>\n",
       "    <tr>\n",
       "      <th>6</th>\n",
       "      <td>3</td>\n",
       "      <td>78</td>\n",
       "      <td>50</td>\n",
       "      <td>32</td>\n",
       "      <td>88</td>\n",
       "      <td>31.0</td>\n",
       "      <td>0.248</td>\n",
       "      <td>26</td>\n",
       "      <td>1</td>\n",
       "    </tr>\n",
       "    <tr>\n",
       "      <th>7</th>\n",
       "      <td>10</td>\n",
       "      <td>115</td>\n",
       "      <td>0</td>\n",
       "      <td>0</td>\n",
       "      <td>0</td>\n",
       "      <td>35.3</td>\n",
       "      <td>0.134</td>\n",
       "      <td>29</td>\n",
       "      <td>0</td>\n",
       "    </tr>\n",
       "    <tr>\n",
       "      <th>8</th>\n",
       "      <td>2</td>\n",
       "      <td>197</td>\n",
       "      <td>70</td>\n",
       "      <td>45</td>\n",
       "      <td>543</td>\n",
       "      <td>30.5</td>\n",
       "      <td>0.158</td>\n",
       "      <td>53</td>\n",
       "      <td>1</td>\n",
       "    </tr>\n",
       "    <tr>\n",
       "      <th>9</th>\n",
       "      <td>8</td>\n",
       "      <td>125</td>\n",
       "      <td>96</td>\n",
       "      <td>0</td>\n",
       "      <td>0</td>\n",
       "      <td>0.0</td>\n",
       "      <td>0.232</td>\n",
       "      <td>54</td>\n",
       "      <td>1</td>\n",
       "    </tr>\n",
       "  </tbody>\n",
       "</table>\n",
       "</div>"
      ],
      "text/plain": [
       "   Pregnancies  Glucose  BloodPressure  SkinThickness  Insulin   BMI  \\\n",
       "0            6      148             72             35        0  33.6   \n",
       "1            1       85             66             29        0  26.6   \n",
       "2            8      183             64              0        0  23.3   \n",
       "3            1       89             66             23       94  28.1   \n",
       "4            0      137             40             35      168  43.1   \n",
       "5            5      116             74              0        0  25.6   \n",
       "6            3       78             50             32       88  31.0   \n",
       "7           10      115              0              0        0  35.3   \n",
       "8            2      197             70             45      543  30.5   \n",
       "9            8      125             96              0        0   0.0   \n",
       "\n",
       "   DiabetesPedigreeFunction  Age  Outcome  \n",
       "0                     0.627   50        1  \n",
       "1                     0.351   31        0  \n",
       "2                     0.672   32        1  \n",
       "3                     0.167   21        0  \n",
       "4                     2.288   33        1  \n",
       "5                     0.201   30        0  \n",
       "6                     0.248   26        1  \n",
       "7                     0.134   29        0  \n",
       "8                     0.158   53        1  \n",
       "9                     0.232   54        1  "
      ]
     },
     "execution_count": 599,
     "metadata": {},
     "output_type": "execute_result"
    }
   ],
   "source": [
    "data.head(10)"
   ]
  },
  {
   "cell_type": "markdown",
   "id": "8f1043f9",
   "metadata": {},
   "source": [
    "Pregnancies = Number of times pregnant\n",
    "\n",
    "Glucose = Plasma glucose concentration a 2 hours in an oral glucose tolerance test\n",
    "\n",
    "BloodPressure = Diastolic blood pressure (mmHg)\n",
    "\n",
    "SkinThickness = Triceps skin fold thickness (mm)\n",
    "\n",
    "Insulin = 2-Hour serum insulin (mu U/ml)\n",
    "\n",
    "BMI = Body mass index (weight in kg/(height in m)^2)\n",
    "\n",
    "DiabetesPedigreeFunction \n",
    "\n",
    "Outcome = 1 (positive), 0 (negative)"
   ]
  },
  {
   "cell_type": "markdown",
   "id": "f02eb0d3",
   "metadata": {},
   "source": [
    "### Data Analyze"
   ]
  },
  {
   "cell_type": "code",
   "execution_count": 600,
   "id": "dfe9394b",
   "metadata": {},
   "outputs": [
    {
     "name": "stdout",
     "output_type": "stream",
     "text": [
      "<class 'pandas.core.frame.DataFrame'>\n",
      "RangeIndex: 768 entries, 0 to 767\n",
      "Data columns (total 9 columns):\n",
      " #   Column                    Non-Null Count  Dtype  \n",
      "---  ------                    --------------  -----  \n",
      " 0   Pregnancies               768 non-null    int64  \n",
      " 1   Glucose                   768 non-null    int64  \n",
      " 2   BloodPressure             768 non-null    int64  \n",
      " 3   SkinThickness             768 non-null    int64  \n",
      " 4   Insulin                   768 non-null    int64  \n",
      " 5   BMI                       768 non-null    float64\n",
      " 6   DiabetesPedigreeFunction  768 non-null    float64\n",
      " 7   Age                       768 non-null    int64  \n",
      " 8   Outcome                   768 non-null    int64  \n",
      "dtypes: float64(2), int64(7)\n",
      "memory usage: 54.1 KB\n"
     ]
    }
   ],
   "source": [
    "data.info()"
   ]
  },
  {
   "cell_type": "code",
   "execution_count": 601,
   "id": "7204e595",
   "metadata": {},
   "outputs": [
    {
     "data": {
      "text/plain": [
       "Pregnancies                 0\n",
       "Glucose                     0\n",
       "BloodPressure               0\n",
       "SkinThickness               0\n",
       "Insulin                     0\n",
       "BMI                         0\n",
       "DiabetesPedigreeFunction    0\n",
       "Age                         0\n",
       "Outcome                     0\n",
       "dtype: int64"
      ]
     },
     "execution_count": 601,
     "metadata": {},
     "output_type": "execute_result"
    }
   ],
   "source": [
    "pd.isnull(data).sum()"
   ]
  },
  {
   "cell_type": "markdown",
   "id": "ca3cbda6",
   "metadata": {},
   "source": [
    "No null-data\n",
    "\n",
    "all columns except 'Outcome' are numurical data\n",
    "\n",
    "Outcome is Characteristic"
   ]
  },
  {
   "cell_type": "markdown",
   "id": "c6bc6c2d",
   "metadata": {},
   "source": [
    "#### Data visualization\n",
    "\n",
    "Before visualization, I need to try to assume what are factors of Diabete. According to https://www.mayoclinic.org/diseases-conditions/diabetes/symptoms-causes/syc-20371444\n",
    "\n",
    "Pregnancies : Gestational Diabete !\n",
    "\n",
    "Glucose : Exactly yes!\n",
    "\n",
    "BloodPressure : Exacly yes!\n",
    "\n",
    "SkinThickness : Is it showing Metabolic syndrome? or just sign of obesity? However, I think it is also a factor.\n",
    "\n",
    "Insulin : If you have insulin low or insulin resistance = Type 2 DM. If insulin = 0, Type 1 DM.\n",
    "\n",
    "BMI : Showing Metabolic syndrome and obesity which cause to Type 2 DM.\n",
    "\n",
    "DiabetesPedigreeFunction : Increase risk of Type 1 DM and Type 2 DM\n",
    "\n",
    "Age : Women older than age 25 are at increased risk in gestational diabetes. Your risk increases as you get older in Type 2 DM.\n",
    "\n"
   ]
  },
  {
   "cell_type": "markdown",
   "id": "fab96423",
   "metadata": {},
   "source": [
    "* * *\n",
    "Pregnancies"
   ]
  },
  {
   "cell_type": "code",
   "execution_count": 602,
   "id": "1bc3e017",
   "metadata": {},
   "outputs": [
    {
     "data": {
      "text/plain": [
       "<AxesSubplot:xlabel='Pregnancies', ylabel='Outcome'>"
      ]
     },
     "execution_count": 602,
     "metadata": {},
     "output_type": "execute_result"
    },
    {
     "data": {
      "image/png": "[encoded data removed]",
      "text/plain": [
       "<Figure size 432x288 with 1 Axes>"
      ]
     },
     "metadata": {
      "needs_background": "light"
     },
     "output_type": "display_data"
    }
   ],
   "source": [
    "sns.barplot(x = 'Pregnancies', y = 'Outcome', data = data)"
   ]
  },
  {
   "cell_type": "code",
   "execution_count": 603,
   "id": "764e6e75",
   "metadata": {},
   "outputs": [
    {
     "data": {
      "text/plain": [
       "<AxesSubplot:xlabel='Pregnancies', ylabel='Outcome'>"
      ]
     },
     "execution_count": 603,
     "metadata": {},
     "output_type": "execute_result"
    },
    {
     "data": {
      "image/png": "[encoded data removed]",
      "text/plain": [
       "<Figure size 432x288 with 1 Axes>"
      ]
     },
     "metadata": {
      "needs_background": "light"
     },
     "output_type": "display_data"
    }
   ],
   "source": [
    "sns.scatterplot(x = 'Pregnancies', y = 'Outcome', data = data)"
   ]
  },
  {
   "cell_type": "markdown",
   "id": "b7fae302",
   "metadata": {},
   "source": [
    "Glucose"
   ]
  },
  {
   "cell_type": "code",
   "execution_count": 604,
   "id": "b975c196",
   "metadata": {},
   "outputs": [
    {
     "data": {
      "text/plain": [
       "<AxesSubplot:xlabel='Glucose', ylabel='Outcome'>"
      ]
     },
     "execution_count": 604,
     "metadata": {},
     "output_type": "execute_result"
    },
    {
     "data": {
      "image/png": "[encoded data removed]",
      "text/plain": [
       "<Figure size 432x288 with 1 Axes>"
      ]
     },
     "metadata": {
      "needs_background": "light"
     },
     "output_type": "display_data"
    }
   ],
   "source": [
    "sns.scatterplot(x = 'Glucose', y = 'Outcome', data = data)"
   ]
  },
  {
   "cell_type": "code",
   "execution_count": 605,
   "id": "f5965a5e",
   "metadata": {},
   "outputs": [
    {
     "data": {
      "text/plain": [
       "<AxesSubplot:xlabel='Glucose', ylabel='Outcome'>"
      ]
     },
     "execution_count": 605,
     "metadata": {},
     "output_type": "execute_result"
    },
    {
     "data": {
      "image/png": "[encoded data removed]",
      "text/plain": [
       "<Figure size 432x288 with 1 Axes>"
      ]
     },
     "metadata": {
      "needs_background": "light"
     },
     "output_type": "display_data"
    }
   ],
   "source": [
    "sns.barplot(x = 'Glucose', y = 'Outcome', data = data)"
   ]
  },
  {
   "cell_type": "markdown",
   "id": "ffb823fd",
   "metadata": {},
   "source": [
    "For Glucose, It is too many range. So I need to make groups!\n",
    "\n",
    "According to MayoClinic, A blood sugar level less than 140 mg/dL (7.8 mmol/L) is normal. A reading of more than 200 mg/dL (11.1 mmol/L) after two hours indicates diabetes. A reading between 140 and 199 mg/dL (7.8 mmol/L and 11.0 mmol/L) indicates prediabetes. (For oral glucose intolerance)\n",
    "\n",
    "[https://www.mayoclinic.org/diseases-conditions/diabetes/diagnosis-treatment/drc-20371451#:~:text=A%20blood%20sugar%20level%20less,mmol%2FL)%20indicates%20prediabetes.]\n",
    "\n",
    "So I would like to group them to 'Normal' (0-140 mg/dL), 'High-1' (141-199), and 'High-2' (200+)."
   ]
  },
  {
   "cell_type": "code",
   "execution_count": 606,
   "id": "a51d4410",
   "metadata": {},
   "outputs": [],
   "source": [
    "BG_group = [0, 140, 200, np.inf]\n",
    "BG_label = ['Normal', 'High-1', 'High-2']\n",
    "\n",
    "#create a new column\n",
    "data['Glucose groups'] = pd.cut(data['Glucose'], BG_group, labels = BG_label)"
   ]
  },
  {
   "cell_type": "code",
   "execution_count": 607,
   "id": "d32455bc",
   "metadata": {},
   "outputs": [
    {
     "data": {
      "text/plain": [
       "<AxesSubplot:xlabel='Glucose groups', ylabel='Outcome'>"
      ]
     },
     "execution_count": 607,
     "metadata": {},
     "output_type": "execute_result"
    },
    {
     "data": {
      "image/png": "[encoded data removed]",
      "text/plain": [
       "<Figure size 432x288 with 1 Axes>"
      ]
     },
     "metadata": {
      "needs_background": "light"
     },
     "output_type": "display_data"
    }
   ],
   "source": [
    "sns.barplot(x = 'Glucose groups', y = 'Outcome', data = data)"
   ]
  },
  {
   "cell_type": "markdown",
   "id": "577dd26c",
   "metadata": {},
   "source": [
    "BloodPressure\n",
    "\n",
    "I think it gonna be like Glucose, Thus I need to group them before\n",
    "\n",
    "According to https://www.etoolsage.com/Chart/Blood_Pressure_Chart.asp"
   ]
  },
  {
   "attachments": {
    "image-3.png": {
     "image/png": "[encoded data removed]"
    }
   },
   "cell_type": "markdown",
   "id": "a31188e3",
   "metadata": {},
   "source": [
    "![image-3.png](attachment:image-3.png)"
   ]
  },
  {
   "cell_type": "code",
   "execution_count": 608,
   "id": "9a2b7364",
   "metadata": {},
   "outputs": [],
   "source": [
    "# I see someone has BP=0, that is imposible! so I need to label as 'Unknown'\n",
    "BP_group = [0,35,60,65,85,90,100,110,120, np.inf]\n",
    "BP_label = ['Low-2', 'Low-1', 'Pre-Low', 'Normal','Pre-High','High-1', 'High-2', 'High-3', 'High-4']\n",
    "\n",
    "#create a new column\n",
    "data['BP groups'] = pd.cut(data['BloodPressure'], BP_group, labels = BP_label)"
   ]
  },
  {
   "cell_type": "code",
   "execution_count": 609,
   "id": "a6d5f9d4",
   "metadata": {},
   "outputs": [
    {
     "data": {
      "text/plain": [
       "<AxesSubplot:xlabel='BP groups', ylabel='Outcome'>"
      ]
     },
     "execution_count": 609,
     "metadata": {},
     "output_type": "execute_result"
    },
    {
     "data": {
      "image/png": "[encoded data removed]",
      "text/plain": [
       "<Figure size 432x288 with 1 Axes>"
      ]
     },
     "metadata": {
      "needs_background": "light"
     },
     "output_type": "display_data"
    }
   ],
   "source": [
    "sns.barplot(x = 'BP groups', y = 'Outcome', data = data)"
   ]
  },
  {
   "cell_type": "markdown",
   "id": "f5f5e1b2",
   "metadata": {},
   "source": [
    "SkinThickness\n",
    "\n",
    "I think it gonna be like Glucose, Thus I need to group them before\n",
    "\n",
    "Because all patients are female, thus I would like to focus on female standard\n",
    "\n",
    "According to https://basicmedicalkey.com/wxyz-2/ , they say 16.5 is standard for women and following to (https://medical-dictionary.thefreedictionary.com/) they say 23 is normal\n",
    "\n",
    "Thus, I would like to group them into Low(lower than 16.5), normal (16.5-23), hight(23+)"
   ]
  },
  {
   "cell_type": "code",
   "execution_count": 610,
   "id": "c2908373",
   "metadata": {},
   "outputs": [],
   "source": [
    "ST_group = [0, 16.5, 23, np.inf]\n",
    "ST_label = ['Low', 'Normal', 'High']\n",
    "\n",
    "#create a new column\n",
    "data['ST groups'] = pd.cut(data['SkinThickness'], ST_group, labels = ST_label)"
   ]
  },
  {
   "cell_type": "code",
   "execution_count": 611,
   "id": "eba34d06",
   "metadata": {},
   "outputs": [
    {
     "data": {
      "text/plain": [
       "<AxesSubplot:xlabel='ST groups', ylabel='Outcome'>"
      ]
     },
     "execution_count": 611,
     "metadata": {},
     "output_type": "execute_result"
    },
    {
     "data": {
      "image/png": "[encoded data removed]",
      "text/plain": [
       "<Figure size 432x288 with 1 Axes>"
      ]
     },
     "metadata": {
      "needs_background": "light"
     },
     "output_type": "display_data"
    }
   ],
   "source": [
    "sns.barplot(x = 'ST groups', y = 'Outcome', data = data)"
   ]
  },
  {
   "cell_type": "markdown",
   "id": "92db63ce",
   "metadata": {},
   "source": [
    "Insulin"
   ]
  },
  {
   "cell_type": "markdown",
   "id": "9f4fd50e",
   "metadata": {},
   "source": [
    "Because I can not find range of insulin in mu U/ml and can not find range of them\n",
    "\n",
    "I think I can visual data in other way"
   ]
  },
  {
   "cell_type": "code",
   "execution_count": 612,
   "id": "237ee59b",
   "metadata": {},
   "outputs": [
    {
     "data": {
      "text/plain": [
       "<AxesSubplot:xlabel='Insulin', ylabel='Outcome'>"
      ]
     },
     "execution_count": 612,
     "metadata": {},
     "output_type": "execute_result"
    },
    {
     "data": {
      "image/png": "[encoded data removed]",
      "text/plain": [
       "<Figure size 432x288 with 1 Axes>"
      ]
     },
     "metadata": {
      "needs_background": "light"
     },
     "output_type": "display_data"
    }
   ],
   "source": [
    "sns.scatterplot(x = 'Insulin', y = 'Outcome', data = data)"
   ]
  },
  {
   "attachments": {},
   "cell_type": "markdown",
   "id": "462fd254",
   "metadata": {},
   "source": [
    "I can not find range of insulin, thus I need to group them by my idea.\n",
    "\n",
    "Above show 0-800+\n",
    "\n",
    "1 = 0-200, 2 = 200-400, 3 = 400-600, 4 = 600-800, 5 = 800+"
   ]
  },
  {
   "cell_type": "code",
   "execution_count": 613,
   "id": "0c0b0430",
   "metadata": {},
   "outputs": [],
   "source": [
    "ISU_group = [0, 200, 400, 600, 800, np.inf]\n",
    "ISU_label = [1, 2, 3, 4, 5]\n",
    "\n",
    "#create a new column\n",
    "data['ISU groups'] = pd.cut(data['Insulin'], ISU_group, labels = ISU_label)"
   ]
  },
  {
   "cell_type": "code",
   "execution_count": 614,
   "id": "d2c519e0",
   "metadata": {},
   "outputs": [
    {
     "data": {
      "text/plain": [
       "<AxesSubplot:xlabel='ISU groups', ylabel='Outcome'>"
      ]
     },
     "execution_count": 614,
     "metadata": {},
     "output_type": "execute_result"
    },
    {
     "data": {
      "image/png": "[encoded data removed]",
      "text/plain": [
       "<Figure size 432x288 with 1 Axes>"
      ]
     },
     "metadata": {
      "needs_background": "light"
     },
     "output_type": "display_data"
    }
   ],
   "source": [
    "sns.barplot(x = 'ISU groups', y = 'Outcome', data = data)"
   ]
  },
  {
   "cell_type": "markdown",
   "id": "d9a01b9c",
   "metadata": {},
   "source": [
    "According to (https://www.mayoclinic.org/diseases-conditions/type-2-diabetes/expert-answers/hyperinsulinemia/faq-20058488#:~:text=Hyperinsulinemia%20(hi%2Dpur%2Din,which%20helps%20regulate%20blood%20sugar.) Hyperinsulinemia is often associated with Type 2 DM"
   ]
  },
  {
   "cell_type": "markdown",
   "id": "1212a82a",
   "metadata": {},
   "source": [
    "BMI"
   ]
  },
  {
   "cell_type": "code",
   "execution_count": 615,
   "id": "ac8c7e6e",
   "metadata": {},
   "outputs": [
    {
     "data": {
      "text/plain": [
       "<AxesSubplot:xlabel='BMI', ylabel='Outcome'>"
      ]
     },
     "execution_count": 615,
     "metadata": {},
     "output_type": "execute_result"
    },
    {
     "data": {
      "image/png": "[encoded data removed]",
      "text/plain": [
       "<Figure size 432x288 with 1 Axes>"
      ]
     },
     "metadata": {
      "needs_background": "light"
     },
     "output_type": "display_data"
    }
   ],
   "source": [
    "sns.scatterplot(x = 'BMI', y = 'Outcome', data = data)"
   ]
  },
  {
   "cell_type": "markdown",
   "id": "8d6fd2f3",
   "metadata": {},
   "source": [
    "I need to group them.\n",
    "According to https://www.cdc.gov/healthyweight/assessing/bmi/adult_bmi/index.html"
   ]
  },
  {
   "cell_type": "code",
   "execution_count": 616,
   "id": "9cf06c31",
   "metadata": {},
   "outputs": [],
   "source": [
    "BMI_group = [0, 18.5, 25, 30, np.inf]\n",
    "BMI_label = ['Underweight', 'Healthy Weight', 'Overweight', 'Obesity']\n",
    "\n",
    "#create a new column\n",
    "data['BMI groups'] = pd.cut(data['BMI'], BMI_group, labels = BMI_label)"
   ]
  },
  {
   "cell_type": "code",
   "execution_count": 617,
   "id": "950e2516",
   "metadata": {},
   "outputs": [
    {
     "data": {
      "text/plain": [
       "<AxesSubplot:xlabel='BMI groups', ylabel='Outcome'>"
      ]
     },
     "execution_count": 617,
     "metadata": {},
     "output_type": "execute_result"
    },
    {
     "data": {
      "image/png": "[encoded data removed]",
      "text/plain": [
       "<Figure size 432x288 with 1 Axes>"
      ]
     },
     "metadata": {
      "needs_background": "light"
     },
     "output_type": "display_data"
    }
   ],
   "source": [
    "sns.barplot(x = 'BMI groups', y = 'Outcome', data = data)"
   ]
  },
  {
   "cell_type": "markdown",
   "id": "89449604",
   "metadata": {},
   "source": [
    "DiabetesPedigreeFunction "
   ]
  },
  {
   "cell_type": "code",
   "execution_count": 618,
   "id": "ebf27f1b",
   "metadata": {},
   "outputs": [
    {
     "data": {
      "text/plain": [
       "<AxesSubplot:xlabel='DiabetesPedigreeFunction', ylabel='Outcome'>"
      ]
     },
     "execution_count": 618,
     "metadata": {},
     "output_type": "execute_result"
    },
    {
     "data": {
      "image/png": "[encoded data removed]",
      "text/plain": [
       "<Figure size 432x288 with 1 Axes>"
      ]
     },
     "metadata": {
      "needs_background": "light"
     },
     "output_type": "display_data"
    }
   ],
   "source": [
    "sns.scatterplot(x = 'DiabetesPedigreeFunction', y = 'Outcome', data = data)"
   ]
  },
  {
   "cell_type": "markdown",
   "id": "80685031",
   "metadata": {},
   "source": [
    "Because I can not find the range of DiabetesPedigreeFunction, I would like to group them by my idea.\n",
    "\n",
    "1 = 0-0.5, 2 = 0.5 - 1, 3 = 1 - 1.5, 4 = 1.5 - 2, 5 = 2+"
   ]
  },
  {
   "cell_type": "code",
   "execution_count": 619,
   "id": "cb11b236",
   "metadata": {},
   "outputs": [],
   "source": [
    "DPF_group = [0, 0.5, 1, 1.5, 2, np.inf]\n",
    "DPF_label = [1, 2, 3, 4, 5]\n",
    "\n",
    "#create a new column\n",
    "data['DPF groups'] = pd.cut(data['DiabetesPedigreeFunction'], DPF_group, labels = DPF_label)"
   ]
  },
  {
   "cell_type": "code",
   "execution_count": 620,
   "id": "63d7dfbf",
   "metadata": {},
   "outputs": [
    {
     "data": {
      "text/plain": [
       "<AxesSubplot:xlabel='DPF groups', ylabel='Outcome'>"
      ]
     },
     "execution_count": 620,
     "metadata": {},
     "output_type": "execute_result"
    },
    {
     "data": {
      "image/png": "[encoded data removed]",
      "text/plain": [
       "<Figure size 432x288 with 1 Axes>"
      ]
     },
     "metadata": {
      "needs_background": "light"
     },
     "output_type": "display_data"
    }
   ],
   "source": [
    "sns.barplot(x = 'DPF groups', y = 'Outcome', data = data)"
   ]
  },
  {
   "cell_type": "markdown",
   "id": "816a93bd",
   "metadata": {},
   "source": [
    "Age"
   ]
  },
  {
   "cell_type": "code",
   "execution_count": 621,
   "id": "d3daf0a4",
   "metadata": {},
   "outputs": [
    {
     "data": {
      "text/plain": [
       "<AxesSubplot:xlabel='Age', ylabel='Outcome'>"
      ]
     },
     "execution_count": 621,
     "metadata": {},
     "output_type": "execute_result"
    },
    {
     "data": {
      "image/png": "[encoded data removed]",
      "text/plain": [
       "<Figure size 432x288 with 1 Axes>"
      ]
     },
     "metadata": {
      "needs_background": "light"
     },
     "output_type": "display_data"
    }
   ],
   "source": [
    "sns.scatterplot(x = 'Age', y = 'Outcome', data = data)"
   ]
  },
  {
   "attachments": {
    "image.png": {
     "image/png": "[encoded data removed]"
    }
   },
   "cell_type": "markdown",
   "id": "efae70b4",
   "metadata": {},
   "source": [
    "I need to group them. Above scatterplot shows 20-80\n",
    "\n",
    "I need to follow like this\n",
    "\n",
    "![image.png](attachment:image.png)"
   ]
  },
  {
   "cell_type": "code",
   "execution_count": 622,
   "id": "4ba228b9",
   "metadata": {},
   "outputs": [],
   "source": [
    "AGE_group = [0, 40, 60, np.inf]\n",
    "AGE_label = ['Young Adult', 'Middle Adult', 'Old Adult']\n",
    "\n",
    "#create a new column\n",
    "data['AGE groups'] = pd.cut(data['Age'], AGE_group, labels = AGE_label)"
   ]
  },
  {
   "cell_type": "code",
   "execution_count": 623,
   "id": "ab82063b",
   "metadata": {},
   "outputs": [
    {
     "data": {
      "text/plain": [
       "<AxesSubplot:xlabel='AGE groups', ylabel='Outcome'>"
      ]
     },
     "execution_count": 623,
     "metadata": {},
     "output_type": "execute_result"
    },
    {
     "data": {
      "image/png": "[encoded data removed]",
      "text/plain": [
       "<Figure size 432x288 with 1 Axes>"
      ]
     },
     "metadata": {
      "needs_background": "light"
     },
     "output_type": "display_data"
    }
   ],
   "source": [
    "sns.barplot(x = 'AGE groups', y = 'Outcome', data = data)"
   ]
  },
  {
   "cell_type": "markdown",
   "id": "d116fb0b",
   "metadata": {},
   "source": [
    "### Data Clean"
   ]
  },
  {
   "cell_type": "code",
   "execution_count": 624,
   "id": "a9c59931",
   "metadata": {},
   "outputs": [
    {
     "data": {
      "text/html": [
       "<div>\n",
       "<style scoped>\n",
       "    .dataframe tbody tr th:only-of-type {\n",
       "        vertical-align: middle;\n",
       "    }\n",
       "\n",
       "    .dataframe tbody tr th {\n",
       "        vertical-align: top;\n",
       "    }\n",
       "\n",
       "    .dataframe thead th {\n",
       "        text-align: right;\n",
       "    }\n",
       "</style>\n",
       "<table border=\"1\" class=\"dataframe\">\n",
       "  <thead>\n",
       "    <tr style=\"text-align: right;\">\n",
       "      <th></th>\n",
       "      <th>Pregnancies</th>\n",
       "      <th>Glucose</th>\n",
       "      <th>BloodPressure</th>\n",
       "      <th>SkinThickness</th>\n",
       "      <th>Insulin</th>\n",
       "      <th>BMI</th>\n",
       "      <th>DiabetesPedigreeFunction</th>\n",
       "      <th>Age</th>\n",
       "      <th>Outcome</th>\n",
       "      <th>Glucose groups</th>\n",
       "      <th>BP groups</th>\n",
       "      <th>ST groups</th>\n",
       "      <th>ISU groups</th>\n",
       "      <th>BMI groups</th>\n",
       "      <th>DPF groups</th>\n",
       "      <th>AGE groups</th>\n",
       "    </tr>\n",
       "  </thead>\n",
       "  <tbody>\n",
       "    <tr>\n",
       "      <th>0</th>\n",
       "      <td>6</td>\n",
       "      <td>148</td>\n",
       "      <td>72</td>\n",
       "      <td>35</td>\n",
       "      <td>0</td>\n",
       "      <td>33.6</td>\n",
       "      <td>0.627</td>\n",
       "      <td>50</td>\n",
       "      <td>1</td>\n",
       "      <td>High-1</td>\n",
       "      <td>Normal</td>\n",
       "      <td>High</td>\n",
       "      <td>NaN</td>\n",
       "      <td>Obesity</td>\n",
       "      <td>2</td>\n",
       "      <td>Middle Adult</td>\n",
       "    </tr>\n",
       "    <tr>\n",
       "      <th>1</th>\n",
       "      <td>1</td>\n",
       "      <td>85</td>\n",
       "      <td>66</td>\n",
       "      <td>29</td>\n",
       "      <td>0</td>\n",
       "      <td>26.6</td>\n",
       "      <td>0.351</td>\n",
       "      <td>31</td>\n",
       "      <td>0</td>\n",
       "      <td>Normal</td>\n",
       "      <td>Normal</td>\n",
       "      <td>High</td>\n",
       "      <td>NaN</td>\n",
       "      <td>Overweight</td>\n",
       "      <td>1</td>\n",
       "      <td>Young Adult</td>\n",
       "    </tr>\n",
       "    <tr>\n",
       "      <th>2</th>\n",
       "      <td>8</td>\n",
       "      <td>183</td>\n",
       "      <td>64</td>\n",
       "      <td>0</td>\n",
       "      <td>0</td>\n",
       "      <td>23.3</td>\n",
       "      <td>0.672</td>\n",
       "      <td>32</td>\n",
       "      <td>1</td>\n",
       "      <td>High-1</td>\n",
       "      <td>Pre-Low</td>\n",
       "      <td>NaN</td>\n",
       "      <td>NaN</td>\n",
       "      <td>Healthy Weight</td>\n",
       "      <td>2</td>\n",
       "      <td>Young Adult</td>\n",
       "    </tr>\n",
       "    <tr>\n",
       "      <th>3</th>\n",
       "      <td>1</td>\n",
       "      <td>89</td>\n",
       "      <td>66</td>\n",
       "      <td>23</td>\n",
       "      <td>94</td>\n",
       "      <td>28.1</td>\n",
       "      <td>0.167</td>\n",
       "      <td>21</td>\n",
       "      <td>0</td>\n",
       "      <td>Normal</td>\n",
       "      <td>Normal</td>\n",
       "      <td>Normal</td>\n",
       "      <td>1</td>\n",
       "      <td>Overweight</td>\n",
       "      <td>1</td>\n",
       "      <td>Young Adult</td>\n",
       "    </tr>\n",
       "    <tr>\n",
       "      <th>4</th>\n",
       "      <td>0</td>\n",
       "      <td>137</td>\n",
       "      <td>40</td>\n",
       "      <td>35</td>\n",
       "      <td>168</td>\n",
       "      <td>43.1</td>\n",
       "      <td>2.288</td>\n",
       "      <td>33</td>\n",
       "      <td>1</td>\n",
       "      <td>Normal</td>\n",
       "      <td>Low-1</td>\n",
       "      <td>High</td>\n",
       "      <td>1</td>\n",
       "      <td>Obesity</td>\n",
       "      <td>5</td>\n",
       "      <td>Young Adult</td>\n",
       "    </tr>\n",
       "    <tr>\n",
       "      <th>5</th>\n",
       "      <td>5</td>\n",
       "      <td>116</td>\n",
       "      <td>74</td>\n",
       "      <td>0</td>\n",
       "      <td>0</td>\n",
       "      <td>25.6</td>\n",
       "      <td>0.201</td>\n",
       "      <td>30</td>\n",
       "      <td>0</td>\n",
       "      <td>Normal</td>\n",
       "      <td>Normal</td>\n",
       "      <td>NaN</td>\n",
       "      <td>NaN</td>\n",
       "      <td>Overweight</td>\n",
       "      <td>1</td>\n",
       "      <td>Young Adult</td>\n",
       "    </tr>\n",
       "    <tr>\n",
       "      <th>6</th>\n",
       "      <td>3</td>\n",
       "      <td>78</td>\n",
       "      <td>50</td>\n",
       "      <td>32</td>\n",
       "      <td>88</td>\n",
       "      <td>31.0</td>\n",
       "      <td>0.248</td>\n",
       "      <td>26</td>\n",
       "      <td>1</td>\n",
       "      <td>Normal</td>\n",
       "      <td>Low-1</td>\n",
       "      <td>High</td>\n",
       "      <td>1</td>\n",
       "      <td>Obesity</td>\n",
       "      <td>1</td>\n",
       "      <td>Young Adult</td>\n",
       "    </tr>\n",
       "    <tr>\n",
       "      <th>7</th>\n",
       "      <td>10</td>\n",
       "      <td>115</td>\n",
       "      <td>0</td>\n",
       "      <td>0</td>\n",
       "      <td>0</td>\n",
       "      <td>35.3</td>\n",
       "      <td>0.134</td>\n",
       "      <td>29</td>\n",
       "      <td>0</td>\n",
       "      <td>Normal</td>\n",
       "      <td>NaN</td>\n",
       "      <td>NaN</td>\n",
       "      <td>NaN</td>\n",
       "      <td>Obesity</td>\n",
       "      <td>1</td>\n",
       "      <td>Young Adult</td>\n",
       "    </tr>\n",
       "    <tr>\n",
       "      <th>8</th>\n",
       "      <td>2</td>\n",
       "      <td>197</td>\n",
       "      <td>70</td>\n",
       "      <td>45</td>\n",
       "      <td>543</td>\n",
       "      <td>30.5</td>\n",
       "      <td>0.158</td>\n",
       "      <td>53</td>\n",
       "      <td>1</td>\n",
       "      <td>High-1</td>\n",
       "      <td>Normal</td>\n",
       "      <td>High</td>\n",
       "      <td>3</td>\n",
       "      <td>Obesity</td>\n",
       "      <td>1</td>\n",
       "      <td>Middle Adult</td>\n",
       "    </tr>\n",
       "    <tr>\n",
       "      <th>9</th>\n",
       "      <td>8</td>\n",
       "      <td>125</td>\n",
       "      <td>96</td>\n",
       "      <td>0</td>\n",
       "      <td>0</td>\n",
       "      <td>0.0</td>\n",
       "      <td>0.232</td>\n",
       "      <td>54</td>\n",
       "      <td>1</td>\n",
       "      <td>Normal</td>\n",
       "      <td>High-1</td>\n",
       "      <td>NaN</td>\n",
       "      <td>NaN</td>\n",
       "      <td>NaN</td>\n",
       "      <td>1</td>\n",
       "      <td>Middle Adult</td>\n",
       "    </tr>\n",
       "  </tbody>\n",
       "</table>\n",
       "</div>"
      ],
      "text/plain": [
       "   Pregnancies  Glucose  BloodPressure  SkinThickness  Insulin   BMI  \\\n",
       "0            6      148             72             35        0  33.6   \n",
       "1            1       85             66             29        0  26.6   \n",
       "2            8      183             64              0        0  23.3   \n",
       "3            1       89             66             23       94  28.1   \n",
       "4            0      137             40             35      168  43.1   \n",
       "5            5      116             74              0        0  25.6   \n",
       "6            3       78             50             32       88  31.0   \n",
       "7           10      115              0              0        0  35.3   \n",
       "8            2      197             70             45      543  30.5   \n",
       "9            8      125             96              0        0   0.0   \n",
       "\n",
       "   DiabetesPedigreeFunction  Age  Outcome Glucose groups BP groups ST groups  \\\n",
       "0                     0.627   50        1         High-1    Normal      High   \n",
       "1                     0.351   31        0         Normal    Normal      High   \n",
       "2                     0.672   32        1         High-1   Pre-Low       NaN   \n",
       "3                     0.167   21        0         Normal    Normal    Normal   \n",
       "4                     2.288   33        1         Normal     Low-1      High   \n",
       "5                     0.201   30        0         Normal    Normal       NaN   \n",
       "6                     0.248   26        1         Normal     Low-1      High   \n",
       "7                     0.134   29        0         Normal       NaN       NaN   \n",
       "8                     0.158   53        1         High-1    Normal      High   \n",
       "9                     0.232   54        1         Normal    High-1       NaN   \n",
       "\n",
       "  ISU groups      BMI groups DPF groups    AGE groups  \n",
       "0        NaN         Obesity          2  Middle Adult  \n",
       "1        NaN      Overweight          1   Young Adult  \n",
       "2        NaN  Healthy Weight          2   Young Adult  \n",
       "3          1      Overweight          1   Young Adult  \n",
       "4          1         Obesity          5   Young Adult  \n",
       "5        NaN      Overweight          1   Young Adult  \n",
       "6          1         Obesity          1   Young Adult  \n",
       "7        NaN         Obesity          1   Young Adult  \n",
       "8          3         Obesity          1  Middle Adult  \n",
       "9        NaN             NaN          1  Middle Adult  "
      ]
     },
     "execution_count": 624,
     "metadata": {},
     "output_type": "execute_result"
    }
   ],
   "source": [
    "data.head(10)"
   ]
  },
  {
   "cell_type": "markdown",
   "id": "901e2cd2",
   "metadata": {},
   "source": [
    "We have Glucose groups, BP groups, ST groups, ISU groups, BMI groups, DPF groups, AGE groups instead of Glucose, BloodPressure\t,SkinThickness,Insulin ,BMI, DiabetesPedigreeFunction , Age\t"
   ]
  },
  {
   "cell_type": "code",
   "execution_count": 625,
   "id": "6e63311b",
   "metadata": {},
   "outputs": [],
   "source": [
    "data = data.drop(['Glucose', 'BloodPressure', 'SkinThickness', 'BMI', 'Insulin' ,'DiabetesPedigreeFunction', 'Age'], axis = 1)"
   ]
  },
  {
   "cell_type": "code",
   "execution_count": 626,
   "id": "1dd8090f",
   "metadata": {},
   "outputs": [
    {
     "data": {
      "text/html": [
       "<div>\n",
       "<style scoped>\n",
       "    .dataframe tbody tr th:only-of-type {\n",
       "        vertical-align: middle;\n",
       "    }\n",
       "\n",
       "    .dataframe tbody tr th {\n",
       "        vertical-align: top;\n",
       "    }\n",
       "\n",
       "    .dataframe thead th {\n",
       "        text-align: right;\n",
       "    }\n",
       "</style>\n",
       "<table border=\"1\" class=\"dataframe\">\n",
       "  <thead>\n",
       "    <tr style=\"text-align: right;\">\n",
       "      <th></th>\n",
       "      <th>Pregnancies</th>\n",
       "      <th>Outcome</th>\n",
       "      <th>Glucose groups</th>\n",
       "      <th>BP groups</th>\n",
       "      <th>ST groups</th>\n",
       "      <th>ISU groups</th>\n",
       "      <th>BMI groups</th>\n",
       "      <th>DPF groups</th>\n",
       "      <th>AGE groups</th>\n",
       "    </tr>\n",
       "  </thead>\n",
       "  <tbody>\n",
       "    <tr>\n",
       "      <th>0</th>\n",
       "      <td>6</td>\n",
       "      <td>1</td>\n",
       "      <td>High-1</td>\n",
       "      <td>Normal</td>\n",
       "      <td>High</td>\n",
       "      <td>NaN</td>\n",
       "      <td>Obesity</td>\n",
       "      <td>2</td>\n",
       "      <td>Middle Adult</td>\n",
       "    </tr>\n",
       "    <tr>\n",
       "      <th>1</th>\n",
       "      <td>1</td>\n",
       "      <td>0</td>\n",
       "      <td>Normal</td>\n",
       "      <td>Normal</td>\n",
       "      <td>High</td>\n",
       "      <td>NaN</td>\n",
       "      <td>Overweight</td>\n",
       "      <td>1</td>\n",
       "      <td>Young Adult</td>\n",
       "    </tr>\n",
       "    <tr>\n",
       "      <th>2</th>\n",
       "      <td>8</td>\n",
       "      <td>1</td>\n",
       "      <td>High-1</td>\n",
       "      <td>Pre-Low</td>\n",
       "      <td>NaN</td>\n",
       "      <td>NaN</td>\n",
       "      <td>Healthy Weight</td>\n",
       "      <td>2</td>\n",
       "      <td>Young Adult</td>\n",
       "    </tr>\n",
       "    <tr>\n",
       "      <th>3</th>\n",
       "      <td>1</td>\n",
       "      <td>0</td>\n",
       "      <td>Normal</td>\n",
       "      <td>Normal</td>\n",
       "      <td>Normal</td>\n",
       "      <td>1</td>\n",
       "      <td>Overweight</td>\n",
       "      <td>1</td>\n",
       "      <td>Young Adult</td>\n",
       "    </tr>\n",
       "    <tr>\n",
       "      <th>4</th>\n",
       "      <td>0</td>\n",
       "      <td>1</td>\n",
       "      <td>Normal</td>\n",
       "      <td>Low-1</td>\n",
       "      <td>High</td>\n",
       "      <td>1</td>\n",
       "      <td>Obesity</td>\n",
       "      <td>5</td>\n",
       "      <td>Young Adult</td>\n",
       "    </tr>\n",
       "    <tr>\n",
       "      <th>5</th>\n",
       "      <td>5</td>\n",
       "      <td>0</td>\n",
       "      <td>Normal</td>\n",
       "      <td>Normal</td>\n",
       "      <td>NaN</td>\n",
       "      <td>NaN</td>\n",
       "      <td>Overweight</td>\n",
       "      <td>1</td>\n",
       "      <td>Young Adult</td>\n",
       "    </tr>\n",
       "    <tr>\n",
       "      <th>6</th>\n",
       "      <td>3</td>\n",
       "      <td>1</td>\n",
       "      <td>Normal</td>\n",
       "      <td>Low-1</td>\n",
       "      <td>High</td>\n",
       "      <td>1</td>\n",
       "      <td>Obesity</td>\n",
       "      <td>1</td>\n",
       "      <td>Young Adult</td>\n",
       "    </tr>\n",
       "    <tr>\n",
       "      <th>7</th>\n",
       "      <td>10</td>\n",
       "      <td>0</td>\n",
       "      <td>Normal</td>\n",
       "      <td>NaN</td>\n",
       "      <td>NaN</td>\n",
       "      <td>NaN</td>\n",
       "      <td>Obesity</td>\n",
       "      <td>1</td>\n",
       "      <td>Young Adult</td>\n",
       "    </tr>\n",
       "    <tr>\n",
       "      <th>8</th>\n",
       "      <td>2</td>\n",
       "      <td>1</td>\n",
       "      <td>High-1</td>\n",
       "      <td>Normal</td>\n",
       "      <td>High</td>\n",
       "      <td>3</td>\n",
       "      <td>Obesity</td>\n",
       "      <td>1</td>\n",
       "      <td>Middle Adult</td>\n",
       "    </tr>\n",
       "    <tr>\n",
       "      <th>9</th>\n",
       "      <td>8</td>\n",
       "      <td>1</td>\n",
       "      <td>Normal</td>\n",
       "      <td>High-1</td>\n",
       "      <td>NaN</td>\n",
       "      <td>NaN</td>\n",
       "      <td>NaN</td>\n",
       "      <td>1</td>\n",
       "      <td>Middle Adult</td>\n",
       "    </tr>\n",
       "  </tbody>\n",
       "</table>\n",
       "</div>"
      ],
      "text/plain": [
       "   Pregnancies  Outcome Glucose groups BP groups ST groups ISU groups  \\\n",
       "0            6        1         High-1    Normal      High        NaN   \n",
       "1            1        0         Normal    Normal      High        NaN   \n",
       "2            8        1         High-1   Pre-Low       NaN        NaN   \n",
       "3            1        0         Normal    Normal    Normal          1   \n",
       "4            0        1         Normal     Low-1      High          1   \n",
       "5            5        0         Normal    Normal       NaN        NaN   \n",
       "6            3        1         Normal     Low-1      High          1   \n",
       "7           10        0         Normal       NaN       NaN        NaN   \n",
       "8            2        1         High-1    Normal      High          3   \n",
       "9            8        1         Normal    High-1       NaN        NaN   \n",
       "\n",
       "       BMI groups DPF groups    AGE groups  \n",
       "0         Obesity          2  Middle Adult  \n",
       "1      Overweight          1   Young Adult  \n",
       "2  Healthy Weight          2   Young Adult  \n",
       "3      Overweight          1   Young Adult  \n",
       "4         Obesity          5   Young Adult  \n",
       "5      Overweight          1   Young Adult  \n",
       "6         Obesity          1   Young Adult  \n",
       "7         Obesity          1   Young Adult  \n",
       "8         Obesity          1  Middle Adult  \n",
       "9             NaN          1  Middle Adult  "
      ]
     },
     "execution_count": 626,
     "metadata": {},
     "output_type": "execute_result"
    }
   ],
   "source": [
    "data.head(10)"
   ]
  },
  {
   "cell_type": "markdown",
   "id": "c674fe00",
   "metadata": {},
   "source": [
    "Convert labels into value"
   ]
  },
  {
   "cell_type": "code",
   "execution_count": 627,
   "id": "fe727c57",
   "metadata": {},
   "outputs": [],
   "source": [
    "Glucose_groups = {\n",
    "    'Normal' : 1, \n",
    "    'High-1' : 2, \n",
    "    'High-2' : 3\n",
    "}\n",
    "\n",
    "data['Glucose groups'] = data['Glucose groups'].map(Glucose_groups)"
   ]
  },
  {
   "cell_type": "code",
   "execution_count": 628,
   "id": "fdc2b284",
   "metadata": {},
   "outputs": [
    {
     "data": {
      "text/plain": [
       "0    2\n",
       "1    1\n",
       "2    2\n",
       "3    1\n",
       "4    1\n",
       "Name: Glucose groups, dtype: category\n",
       "Categories (3, int64): [1 < 2 < 3]"
      ]
     },
     "execution_count": 628,
     "metadata": {},
     "output_type": "execute_result"
    }
   ],
   "source": [
    "data['Glucose groups'].head()"
   ]
  },
  {
   "cell_type": "code",
   "execution_count": 629,
   "id": "2b400b96",
   "metadata": {},
   "outputs": [],
   "source": [
    "BP_groups = {\n",
    "    'Low-2' : 1,\n",
    "    'Low-1' : 2,\n",
    "    'Pre-Low' : 3, \n",
    "    'Normal' : 4,\n",
    "    'Pre-High' : 5,\n",
    "    'High-1' : 6,\n",
    "    'High-2' : 7,\n",
    "    'High-3' : 8,\n",
    "    'High-4' : 9\n",
    "}\n",
    "data['BP groups'] = data['BP groups'].map(BP_groups)"
   ]
  },
  {
   "cell_type": "code",
   "execution_count": 630,
   "id": "5a006e40",
   "metadata": {},
   "outputs": [
    {
     "data": {
      "text/plain": [
       "0    4\n",
       "1    4\n",
       "2    3\n",
       "3    4\n",
       "4    2\n",
       "Name: BP groups, dtype: category\n",
       "Categories (9, int64): [1 < 2 < 3 < 4 ... 6 < 7 < 8 < 9]"
      ]
     },
     "execution_count": 630,
     "metadata": {},
     "output_type": "execute_result"
    }
   ],
   "source": [
    "data['BP groups'].head()"
   ]
  },
  {
   "cell_type": "code",
   "execution_count": 631,
   "id": "242032c0",
   "metadata": {},
   "outputs": [],
   "source": [
    "ST_groups = {\n",
    "    'Low' : 1,\n",
    "    'Normal' : 2,\n",
    "    'High' : 3\n",
    "}\n",
    "data['ST groups'] = data['ST groups'].map(ST_groups)"
   ]
  },
  {
   "cell_type": "code",
   "execution_count": 632,
   "id": "6e06ed0a",
   "metadata": {},
   "outputs": [
    {
     "data": {
      "text/plain": [
       "0      3\n",
       "1      3\n",
       "2    NaN\n",
       "3      2\n",
       "4      3\n",
       "Name: ST groups, dtype: category\n",
       "Categories (3, int64): [1 < 2 < 3]"
      ]
     },
     "execution_count": 632,
     "metadata": {},
     "output_type": "execute_result"
    }
   ],
   "source": [
    "data['ST groups'].head()"
   ]
  },
  {
   "cell_type": "code",
   "execution_count": 633,
   "id": "ca31029c",
   "metadata": {},
   "outputs": [],
   "source": [
    "BMI_groups = {\n",
    "    'Underweight' : 1,\n",
    "    'Healthy Weight' : 2,\n",
    "    'Overweight' : 3,\n",
    "    'Obesity' : 4\n",
    "}\n",
    "data['BMI groups'] = data['BMI groups'].map(BMI_groups)"
   ]
  },
  {
   "cell_type": "code",
   "execution_count": 634,
   "id": "87732fdc",
   "metadata": {},
   "outputs": [
    {
     "data": {
      "text/plain": [
       "0    4\n",
       "1    3\n",
       "2    2\n",
       "3    3\n",
       "4    4\n",
       "Name: BMI groups, dtype: category\n",
       "Categories (4, int64): [1 < 2 < 3 < 4]"
      ]
     },
     "execution_count": 634,
     "metadata": {},
     "output_type": "execute_result"
    }
   ],
   "source": [
    "data['BMI groups'].head()"
   ]
  },
  {
   "cell_type": "code",
   "execution_count": 635,
   "id": "da4600c3",
   "metadata": {},
   "outputs": [],
   "source": [
    "AGE_groups = {\n",
    "    'Young Adult' : 1,\n",
    "    'Middle Adult' : 2,\n",
    "    'Old Adult' : 3\n",
    "}\n",
    "data['AGE groups'] = data['AGE groups'].map(AGE_groups)"
   ]
  },
  {
   "cell_type": "code",
   "execution_count": 636,
   "id": "ea4d13f0",
   "metadata": {},
   "outputs": [
    {
     "data": {
      "text/plain": [
       "0    2\n",
       "1    1\n",
       "2    1\n",
       "3    1\n",
       "4    1\n",
       "Name: AGE groups, dtype: category\n",
       "Categories (3, int64): [1 < 2 < 3]"
      ]
     },
     "execution_count": 636,
     "metadata": {},
     "output_type": "execute_result"
    }
   ],
   "source": [
    "data['AGE groups'].head()"
   ]
  },
  {
   "cell_type": "code",
   "execution_count": 637,
   "id": "2edb521a",
   "metadata": {},
   "outputs": [
    {
     "data": {
      "text/html": [
       "<div>\n",
       "<style scoped>\n",
       "    .dataframe tbody tr th:only-of-type {\n",
       "        vertical-align: middle;\n",
       "    }\n",
       "\n",
       "    .dataframe tbody tr th {\n",
       "        vertical-align: top;\n",
       "    }\n",
       "\n",
       "    .dataframe thead th {\n",
       "        text-align: right;\n",
       "    }\n",
       "</style>\n",
       "<table border=\"1\" class=\"dataframe\">\n",
       "  <thead>\n",
       "    <tr style=\"text-align: right;\">\n",
       "      <th></th>\n",
       "      <th>Pregnancies</th>\n",
       "      <th>Outcome</th>\n",
       "      <th>Glucose groups</th>\n",
       "      <th>BP groups</th>\n",
       "      <th>ST groups</th>\n",
       "      <th>ISU groups</th>\n",
       "      <th>BMI groups</th>\n",
       "      <th>DPF groups</th>\n",
       "      <th>AGE groups</th>\n",
       "    </tr>\n",
       "  </thead>\n",
       "  <tbody>\n",
       "    <tr>\n",
       "      <th>0</th>\n",
       "      <td>6</td>\n",
       "      <td>1</td>\n",
       "      <td>2</td>\n",
       "      <td>4</td>\n",
       "      <td>3</td>\n",
       "      <td>NaN</td>\n",
       "      <td>4</td>\n",
       "      <td>2</td>\n",
       "      <td>2</td>\n",
       "    </tr>\n",
       "    <tr>\n",
       "      <th>1</th>\n",
       "      <td>1</td>\n",
       "      <td>0</td>\n",
       "      <td>1</td>\n",
       "      <td>4</td>\n",
       "      <td>3</td>\n",
       "      <td>NaN</td>\n",
       "      <td>3</td>\n",
       "      <td>1</td>\n",
       "      <td>1</td>\n",
       "    </tr>\n",
       "    <tr>\n",
       "      <th>2</th>\n",
       "      <td>8</td>\n",
       "      <td>1</td>\n",
       "      <td>2</td>\n",
       "      <td>3</td>\n",
       "      <td>NaN</td>\n",
       "      <td>NaN</td>\n",
       "      <td>2</td>\n",
       "      <td>2</td>\n",
       "      <td>1</td>\n",
       "    </tr>\n",
       "    <tr>\n",
       "      <th>3</th>\n",
       "      <td>1</td>\n",
       "      <td>0</td>\n",
       "      <td>1</td>\n",
       "      <td>4</td>\n",
       "      <td>2</td>\n",
       "      <td>1</td>\n",
       "      <td>3</td>\n",
       "      <td>1</td>\n",
       "      <td>1</td>\n",
       "    </tr>\n",
       "    <tr>\n",
       "      <th>4</th>\n",
       "      <td>0</td>\n",
       "      <td>1</td>\n",
       "      <td>1</td>\n",
       "      <td>2</td>\n",
       "      <td>3</td>\n",
       "      <td>1</td>\n",
       "      <td>4</td>\n",
       "      <td>5</td>\n",
       "      <td>1</td>\n",
       "    </tr>\n",
       "    <tr>\n",
       "      <th>5</th>\n",
       "      <td>5</td>\n",
       "      <td>0</td>\n",
       "      <td>1</td>\n",
       "      <td>4</td>\n",
       "      <td>NaN</td>\n",
       "      <td>NaN</td>\n",
       "      <td>3</td>\n",
       "      <td>1</td>\n",
       "      <td>1</td>\n",
       "    </tr>\n",
       "    <tr>\n",
       "      <th>6</th>\n",
       "      <td>3</td>\n",
       "      <td>1</td>\n",
       "      <td>1</td>\n",
       "      <td>2</td>\n",
       "      <td>3</td>\n",
       "      <td>1</td>\n",
       "      <td>4</td>\n",
       "      <td>1</td>\n",
       "      <td>1</td>\n",
       "    </tr>\n",
       "    <tr>\n",
       "      <th>7</th>\n",
       "      <td>10</td>\n",
       "      <td>0</td>\n",
       "      <td>1</td>\n",
       "      <td>NaN</td>\n",
       "      <td>NaN</td>\n",
       "      <td>NaN</td>\n",
       "      <td>4</td>\n",
       "      <td>1</td>\n",
       "      <td>1</td>\n",
       "    </tr>\n",
       "    <tr>\n",
       "      <th>8</th>\n",
       "      <td>2</td>\n",
       "      <td>1</td>\n",
       "      <td>2</td>\n",
       "      <td>4</td>\n",
       "      <td>3</td>\n",
       "      <td>3</td>\n",
       "      <td>4</td>\n",
       "      <td>1</td>\n",
       "      <td>2</td>\n",
       "    </tr>\n",
       "    <tr>\n",
       "      <th>9</th>\n",
       "      <td>8</td>\n",
       "      <td>1</td>\n",
       "      <td>1</td>\n",
       "      <td>6</td>\n",
       "      <td>NaN</td>\n",
       "      <td>NaN</td>\n",
       "      <td>NaN</td>\n",
       "      <td>1</td>\n",
       "      <td>2</td>\n",
       "    </tr>\n",
       "  </tbody>\n",
       "</table>\n",
       "</div>"
      ],
      "text/plain": [
       "   Pregnancies  Outcome Glucose groups BP groups ST groups ISU groups  \\\n",
       "0            6        1              2         4         3        NaN   \n",
       "1            1        0              1         4         3        NaN   \n",
       "2            8        1              2         3       NaN        NaN   \n",
       "3            1        0              1         4         2          1   \n",
       "4            0        1              1         2         3          1   \n",
       "5            5        0              1         4       NaN        NaN   \n",
       "6            3        1              1         2         3          1   \n",
       "7           10        0              1       NaN       NaN        NaN   \n",
       "8            2        1              2         4         3          3   \n",
       "9            8        1              1         6       NaN        NaN   \n",
       "\n",
       "  BMI groups DPF groups AGE groups  \n",
       "0          4          2          2  \n",
       "1          3          1          1  \n",
       "2          2          2          1  \n",
       "3          3          1          1  \n",
       "4          4          5          1  \n",
       "5          3          1          1  \n",
       "6          4          1          1  \n",
       "7          4          1          1  \n",
       "8          4          1          2  \n",
       "9        NaN          1          2  "
      ]
     },
     "execution_count": 637,
     "metadata": {},
     "output_type": "execute_result"
    }
   ],
   "source": [
    "data.head(10)"
   ]
  },
  {
   "cell_type": "markdown",
   "id": "52dabac1",
   "metadata": {},
   "source": [
    "Check the null data"
   ]
  },
  {
   "cell_type": "code",
   "execution_count": 638,
   "id": "89f5ff80",
   "metadata": {},
   "outputs": [
    {
     "name": "stdout",
     "output_type": "stream",
     "text": [
      "<class 'pandas.core.frame.DataFrame'>\n",
      "RangeIndex: 768 entries, 0 to 767\n",
      "Data columns (total 9 columns):\n",
      " #   Column          Non-Null Count  Dtype   \n",
      "---  ------          --------------  -----   \n",
      " 0   Pregnancies     768 non-null    int64   \n",
      " 1   Outcome         768 non-null    int64   \n",
      " 2   Glucose groups  763 non-null    category\n",
      " 3   BP groups       733 non-null    category\n",
      " 4   ST groups       541 non-null    category\n",
      " 5   ISU groups      394 non-null    category\n",
      " 6   BMI groups      757 non-null    category\n",
      " 7   DPF groups      768 non-null    category\n",
      " 8   AGE groups      768 non-null    category\n",
      "dtypes: category(7), int64(2)\n",
      "memory usage: 18.7 KB\n"
     ]
    }
   ],
   "source": [
    "data.info()"
   ]
  },
  {
   "cell_type": "markdown",
   "id": "98203795",
   "metadata": {},
   "source": [
    "Fill nulls with 0\n",
    "\n",
    "I have a problem like this https://stackoverflow.com/questions/53664948/pandas-fillna-throws-valueerror-fill-value-must-be-in-categories\n",
    "\n",
    "So I need to fix it by adding Series.cat.add_categories"
   ]
  },
  {
   "cell_type": "code",
   "execution_count": 639,
   "id": "35c0b2b5",
   "metadata": {},
   "outputs": [],
   "source": [
    "data['Glucose groups'] = data['Glucose groups'].cat.add_categories(0)\n",
    "data['Glucose groups'] = data['Glucose groups'].fillna(0)"
   ]
  },
  {
   "cell_type": "code",
   "execution_count": 640,
   "id": "35a38cf8",
   "metadata": {},
   "outputs": [],
   "source": [
    "data['BP groups'] = data['BP groups'].cat.add_categories(0)\n",
    "data['BP groups'] = data['BP groups'].fillna(0)"
   ]
  },
  {
   "cell_type": "code",
   "execution_count": 641,
   "id": "3b1811fa",
   "metadata": {},
   "outputs": [],
   "source": [
    "data['ST groups'] = data['ST groups'].cat.add_categories(0)\n",
    "data['ST groups'] = data['ST groups'].fillna(0)"
   ]
  },
  {
   "cell_type": "code",
   "execution_count": 642,
   "id": "114610a9",
   "metadata": {},
   "outputs": [],
   "source": [
    "data['ISU groups'] = data['ISU groups'].cat.add_categories(0)\n",
    "data['ISU groups'] = data['ISU groups'].fillna(0)"
   ]
  },
  {
   "cell_type": "code",
   "execution_count": 643,
   "id": "a0e2c920",
   "metadata": {},
   "outputs": [],
   "source": [
    "data['BMI groups'] = data['BMI groups'].cat.add_categories(0)\n",
    "data['BMI groups'] = data['BMI groups'].fillna(0)"
   ]
  },
  {
   "cell_type": "code",
   "execution_count": 644,
   "id": "1178f807",
   "metadata": {},
   "outputs": [
    {
     "name": "stdout",
     "output_type": "stream",
     "text": [
      "<class 'pandas.core.frame.DataFrame'>\n",
      "RangeIndex: 768 entries, 0 to 767\n",
      "Data columns (total 9 columns):\n",
      " #   Column          Non-Null Count  Dtype   \n",
      "---  ------          --------------  -----   \n",
      " 0   Pregnancies     768 non-null    int64   \n",
      " 1   Outcome         768 non-null    int64   \n",
      " 2   Glucose groups  768 non-null    category\n",
      " 3   BP groups       768 non-null    category\n",
      " 4   ST groups       768 non-null    category\n",
      " 5   ISU groups      768 non-null    category\n",
      " 6   BMI groups      768 non-null    category\n",
      " 7   DPF groups      768 non-null    category\n",
      " 8   AGE groups      768 non-null    category\n",
      "dtypes: category(7), int64(2)\n",
      "memory usage: 18.9 KB\n"
     ]
    }
   ],
   "source": [
    "data.info()"
   ]
  },
  {
   "cell_type": "markdown",
   "id": "fd57975d",
   "metadata": {},
   "source": [
    "## Modeling"
   ]
  },
  {
   "cell_type": "markdown",
   "id": "de9fdca5",
   "metadata": {},
   "source": [
    "### Choosing The Best Models\n",
    "\n",
    "Using train:test = 75% : 25%"
   ]
  },
  {
   "cell_type": "code",
   "execution_count": 645,
   "id": "b565b3bb",
   "metadata": {},
   "outputs": [],
   "source": [
    "from sklearn.model_selection import train_test_split"
   ]
  },
  {
   "cell_type": "markdown",
   "id": "b7d2e66c",
   "metadata": {},
   "source": [
    "Dont't forget to drop unnecessary column "
   ]
  },
  {
   "cell_type": "code",
   "execution_count": 647,
   "id": "dfb0790a",
   "metadata": {},
   "outputs": [],
   "source": [
    "Predictor = data.drop(['Outcome'], axis = 1)\n",
    "target = data['Outcome']\n",
    "\n",
    "x_train, x_val, y_train, y_val = train_test_split(Predictor, target, test_size = 0.25)"
   ]
  },
  {
   "cell_type": "markdown",
   "id": "1f44547e",
   "metadata": {},
   "source": [
    "Import accuracy score for choosing the best of models"
   ]
  },
  {
   "cell_type": "code",
   "execution_count": 648,
   "id": "ef824b6e",
   "metadata": {},
   "outputs": [],
   "source": [
    "from sklearn.metrics import accuracy_score"
   ]
  },
  {
   "cell_type": "markdown",
   "id": "ebc14552",
   "metadata": {},
   "source": [
    "I need to try testing different models and checking which is best (Following to : https://www.simplilearn.com/regression-vs-classification-in-machine-learning-article?source=frs_left_nav_clicked)\n",
    "\n",
    "- Decision Tree Classification\n",
    "- K-Nearest Neighbors\n",
    "- Logistic Regression\n",
    "- Naïve Bayes\n",
    "- Random Forest Classification\n",
    "- Support Vector Machines"
   ]
  },
  {
   "cell_type": "markdown",
   "id": "93083bf8",
   "metadata": {},
   "source": [
    "Decision Tree Classification"
   ]
  },
  {
   "cell_type": "code",
   "execution_count": 657,
   "id": "6b848aaf",
   "metadata": {},
   "outputs": [
    {
     "data": {
      "text/plain": [
       "0.641"
      ]
     },
     "execution_count": 657,
     "metadata": {},
     "output_type": "execute_result"
    }
   ],
   "source": [
    "from sklearn.tree import DecisionTreeClassifier\n",
    "\n",
    "decision_tree = DecisionTreeClassifier()\n",
    "decision_tree.fit(x_train, y_train)\n",
    "prediction = decision_tree.predict(x_val)\n",
    "accuracy_decision_tree = round(accuracy_score(prediction, y_val),3)\n",
    "\n",
    "accuracy_decision_tree"
   ]
  },
  {
   "cell_type": "markdown",
   "id": "ea63234b",
   "metadata": {},
   "source": [
    "K-Nearest Neighbors"
   ]
  },
  {
   "cell_type": "code",
   "execution_count": 658,
   "id": "17522b04",
   "metadata": {},
   "outputs": [
    {
     "data": {
      "text/plain": [
       "0.62"
      ]
     },
     "execution_count": 658,
     "metadata": {},
     "output_type": "execute_result"
    }
   ],
   "source": [
    "from sklearn.neighbors import KNeighborsClassifier\n",
    "\n",
    "kNN = KNeighborsClassifier()\n",
    "kNN.fit(x_train, y_train)\n",
    "prediction = kNN.predict(x_val)\n",
    "accuracy_kNN = round(accuracy_score(prediction, y_val),3)\n",
    "\n",
    "accuracy_kNN"
   ]
  },
  {
   "cell_type": "markdown",
   "id": "257cf71f",
   "metadata": {},
   "source": [
    "Logistic Regression"
   ]
  },
  {
   "cell_type": "code",
   "execution_count": 662,
   "id": "cfb3870f",
   "metadata": {},
   "outputs": [
    {
     "data": {
      "text/plain": [
       "0.703"
      ]
     },
     "execution_count": 662,
     "metadata": {},
     "output_type": "execute_result"
    }
   ],
   "source": [
    "from sklearn.linear_model import LogisticRegression\n",
    "\n",
    "logistic_regress = LogisticRegression()\n",
    "logistic_regress.fit(x_train, y_train)\n",
    "prediction = logistic_regress.predict(x_val)\n",
    "accuracy_logistic_regress = round(accuracy_score(prediction, y_val),3)\n",
    "\n",
    "accuracy_logistic_regress"
   ]
  },
  {
   "cell_type": "markdown",
   "id": "8b7348a7",
   "metadata": {},
   "source": [
    "Naïve Bayes"
   ]
  },
  {
   "cell_type": "code",
   "execution_count": 661,
   "id": "17dfe888",
   "metadata": {},
   "outputs": [
    {
     "data": {
      "text/plain": [
       "0.698"
      ]
     },
     "execution_count": 661,
     "metadata": {},
     "output_type": "execute_result"
    }
   ],
   "source": [
    "from sklearn.naive_bayes import GaussianNB\n",
    "\n",
    "naive_bayes = GaussianNB()\n",
    "naive_bayes.fit(x_train, y_train)\n",
    "prediction = naive_bayes.predict(x_val)\n",
    "accuracy_naive_bayes = round(accuracy_score(prediction, y_val),3)\n",
    "\n",
    "accuracy_naive_bayes"
   ]
  },
  {
   "cell_type": "markdown",
   "id": "ea84f8ff",
   "metadata": {},
   "source": [
    "Random Forest Classification"
   ]
  },
  {
   "cell_type": "code",
   "execution_count": 665,
   "id": "d790da31",
   "metadata": {},
   "outputs": [
    {
     "data": {
      "text/plain": [
       "0.682"
      ]
     },
     "execution_count": 665,
     "metadata": {},
     "output_type": "execute_result"
    }
   ],
   "source": [
    "from sklearn.ensemble import RandomForestClassifier\n",
    "\n",
    "RFC = RandomForestClassifier()\n",
    "RFC.fit(x_train, y_train)\n",
    "prediction = RFC.predict(x_val)\n",
    "accuracy_RFC = round(accuracy_score(prediction, y_val),3)\n",
    "\n",
    "accuracy_RFC"
   ]
  },
  {
   "cell_type": "markdown",
   "id": "dd4e8080",
   "metadata": {},
   "source": [
    "Support Vector Machines"
   ]
  },
  {
   "cell_type": "code",
   "execution_count": 667,
   "id": "d970ce38",
   "metadata": {},
   "outputs": [
    {
     "data": {
      "text/plain": [
       "0.682"
      ]
     },
     "execution_count": 667,
     "metadata": {},
     "output_type": "execute_result"
    }
   ],
   "source": [
    "from sklearn.svm import SVC\n",
    "\n",
    "support_vector_machines = SVC()\n",
    "support_vector_machines.fit(x_train, y_train)\n",
    "prediction = support_vector_machines.predict(x_val)\n",
    "accuracy_support_vector_machines = round(accuracy_score(prediction, y_val),3)\n",
    "\n",
    "accuracy_support_vector_machines"
   ]
  },
  {
   "cell_type": "markdown",
   "id": "70fe813e",
   "metadata": {},
   "source": [
    "I would like to use Logistic Regression"
   ]
  },
  {
   "cell_type": "code",
   "execution_count": 671,
   "id": "f4ec1fdd",
   "metadata": {},
   "outputs": [],
   "source": [
    "predictions = logistic_regress.predict(data.drop(['Outcome'], axis = 1))\n",
    "\n",
    "data['Prediction'] = predictions"
   ]
  },
  {
   "cell_type": "code",
   "execution_count": 672,
   "id": "3093eadc",
   "metadata": {},
   "outputs": [
    {
     "data": {
      "text/html": [
       "<div>\n",
       "<style scoped>\n",
       "    .dataframe tbody tr th:only-of-type {\n",
       "        vertical-align: middle;\n",
       "    }\n",
       "\n",
       "    .dataframe tbody tr th {\n",
       "        vertical-align: top;\n",
       "    }\n",
       "\n",
       "    .dataframe thead th {\n",
       "        text-align: right;\n",
       "    }\n",
       "</style>\n",
       "<table border=\"1\" class=\"dataframe\">\n",
       "  <thead>\n",
       "    <tr style=\"text-align: right;\">\n",
       "      <th></th>\n",
       "      <th>Pregnancies</th>\n",
       "      <th>Outcome</th>\n",
       "      <th>Glucose groups</th>\n",
       "      <th>BP groups</th>\n",
       "      <th>ST groups</th>\n",
       "      <th>ISU groups</th>\n",
       "      <th>BMI groups</th>\n",
       "      <th>DPF groups</th>\n",
       "      <th>AGE groups</th>\n",
       "      <th>Prediction</th>\n",
       "    </tr>\n",
       "  </thead>\n",
       "  <tbody>\n",
       "    <tr>\n",
       "      <th>0</th>\n",
       "      <td>6</td>\n",
       "      <td>1</td>\n",
       "      <td>2</td>\n",
       "      <td>4</td>\n",
       "      <td>3</td>\n",
       "      <td>0</td>\n",
       "      <td>4</td>\n",
       "      <td>2</td>\n",
       "      <td>2</td>\n",
       "      <td>1</td>\n",
       "    </tr>\n",
       "    <tr>\n",
       "      <th>1</th>\n",
       "      <td>1</td>\n",
       "      <td>0</td>\n",
       "      <td>1</td>\n",
       "      <td>4</td>\n",
       "      <td>3</td>\n",
       "      <td>0</td>\n",
       "      <td>3</td>\n",
       "      <td>1</td>\n",
       "      <td>1</td>\n",
       "      <td>0</td>\n",
       "    </tr>\n",
       "    <tr>\n",
       "      <th>2</th>\n",
       "      <td>8</td>\n",
       "      <td>1</td>\n",
       "      <td>2</td>\n",
       "      <td>3</td>\n",
       "      <td>0</td>\n",
       "      <td>0</td>\n",
       "      <td>2</td>\n",
       "      <td>2</td>\n",
       "      <td>1</td>\n",
       "      <td>1</td>\n",
       "    </tr>\n",
       "    <tr>\n",
       "      <th>3</th>\n",
       "      <td>1</td>\n",
       "      <td>0</td>\n",
       "      <td>1</td>\n",
       "      <td>4</td>\n",
       "      <td>2</td>\n",
       "      <td>1</td>\n",
       "      <td>3</td>\n",
       "      <td>1</td>\n",
       "      <td>1</td>\n",
       "      <td>0</td>\n",
       "    </tr>\n",
       "    <tr>\n",
       "      <th>4</th>\n",
       "      <td>0</td>\n",
       "      <td>1</td>\n",
       "      <td>1</td>\n",
       "      <td>2</td>\n",
       "      <td>3</td>\n",
       "      <td>1</td>\n",
       "      <td>4</td>\n",
       "      <td>5</td>\n",
       "      <td>1</td>\n",
       "      <td>1</td>\n",
       "    </tr>\n",
       "    <tr>\n",
       "      <th>5</th>\n",
       "      <td>5</td>\n",
       "      <td>0</td>\n",
       "      <td>1</td>\n",
       "      <td>4</td>\n",
       "      <td>0</td>\n",
       "      <td>0</td>\n",
       "      <td>3</td>\n",
       "      <td>1</td>\n",
       "      <td>1</td>\n",
       "      <td>0</td>\n",
       "    </tr>\n",
       "    <tr>\n",
       "      <th>6</th>\n",
       "      <td>3</td>\n",
       "      <td>1</td>\n",
       "      <td>1</td>\n",
       "      <td>2</td>\n",
       "      <td>3</td>\n",
       "      <td>1</td>\n",
       "      <td>4</td>\n",
       "      <td>1</td>\n",
       "      <td>1</td>\n",
       "      <td>0</td>\n",
       "    </tr>\n",
       "    <tr>\n",
       "      <th>7</th>\n",
       "      <td>10</td>\n",
       "      <td>0</td>\n",
       "      <td>1</td>\n",
       "      <td>0</td>\n",
       "      <td>0</td>\n",
       "      <td>0</td>\n",
       "      <td>4</td>\n",
       "      <td>1</td>\n",
       "      <td>1</td>\n",
       "      <td>1</td>\n",
       "    </tr>\n",
       "    <tr>\n",
       "      <th>8</th>\n",
       "      <td>2</td>\n",
       "      <td>1</td>\n",
       "      <td>2</td>\n",
       "      <td>4</td>\n",
       "      <td>3</td>\n",
       "      <td>3</td>\n",
       "      <td>4</td>\n",
       "      <td>1</td>\n",
       "      <td>2</td>\n",
       "      <td>0</td>\n",
       "    </tr>\n",
       "    <tr>\n",
       "      <th>9</th>\n",
       "      <td>8</td>\n",
       "      <td>1</td>\n",
       "      <td>1</td>\n",
       "      <td>6</td>\n",
       "      <td>0</td>\n",
       "      <td>0</td>\n",
       "      <td>0</td>\n",
       "      <td>1</td>\n",
       "      <td>2</td>\n",
       "      <td>0</td>\n",
       "    </tr>\n",
       "  </tbody>\n",
       "</table>\n",
       "</div>"
      ],
      "text/plain": [
       "   Pregnancies  Outcome Glucose groups BP groups ST groups ISU groups  \\\n",
       "0            6        1              2         4         3          0   \n",
       "1            1        0              1         4         3          0   \n",
       "2            8        1              2         3         0          0   \n",
       "3            1        0              1         4         2          1   \n",
       "4            0        1              1         2         3          1   \n",
       "5            5        0              1         4         0          0   \n",
       "6            3        1              1         2         3          1   \n",
       "7           10        0              1         0         0          0   \n",
       "8            2        1              2         4         3          3   \n",
       "9            8        1              1         6         0          0   \n",
       "\n",
       "  BMI groups DPF groups AGE groups  Prediction  \n",
       "0          4          2          2           1  \n",
       "1          3          1          1           0  \n",
       "2          2          2          1           1  \n",
       "3          3          1          1           0  \n",
       "4          4          5          1           1  \n",
       "5          3          1          1           0  \n",
       "6          4          1          1           0  \n",
       "7          4          1          1           1  \n",
       "8          4          1          2           0  \n",
       "9          0          1          2           0  "
      ]
     },
     "execution_count": 672,
     "metadata": {},
     "output_type": "execute_result"
    }
   ],
   "source": [
    "data.head(10)"
   ]
  },
  {
   "cell_type": "markdown",
   "id": "1231c250",
   "metadata": {},
   "source": [
    "### Presentation"
   ]
  },
  {
   "cell_type": "markdown",
   "id": "bb83ea3e",
   "metadata": {},
   "source": [
    "Create report for comparison"
   ]
  },
  {
   "cell_type": "code",
   "execution_count": 673,
   "id": "2a9b870b",
   "metadata": {},
   "outputs": [
    {
     "name": "stdout",
     "output_type": "stream",
     "text": [
      "[[437 129]\n",
      " [ 63 139]]\n",
      "              precision    recall  f1-score   support\n",
      "\n",
      "           0       0.87      0.77      0.82       566\n",
      "           1       0.52      0.69      0.59       202\n",
      "\n",
      "    accuracy                           0.75       768\n",
      "   macro avg       0.70      0.73      0.71       768\n",
      "weighted avg       0.78      0.75      0.76       768\n",
      "\n"
     ]
    }
   ],
   "source": [
    "from re import A\n",
    "from sklearn.metrics import confusion_matrix,classification_report\n",
    "\n",
    "print(confusion_matrix(data['Prediction'],data['Outcome']))\n",
    "print(classification_report(data['Prediction'],data['Outcome']))"
   ]
  },
  {
   "cell_type": "markdown",
   "id": "6e461d56",
   "metadata": {},
   "source": [
    "# Thank you "
   ]
  }
 ],
 "metadata": {
  "kernelspec": {
   "display_name": "Python 3 (ipykernel)",
   "language": "python",
   "name": "python3"
  },
  "language_info": {
   "codemirror_mode": {
    "name": "ipython",
    "version": 3
   },
   "file_extension": ".py",
   "mimetype": "text/x-python",
   "name": "python",
   "nbconvert_exporter": "python",
   "pygments_lexer": "ipython3",
   "version": "3.9.7"
  }
 },
 "nbformat": 4,
 "nbformat_minor": 5
}
